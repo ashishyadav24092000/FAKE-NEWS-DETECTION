{
 "cells": [
  {
   "cell_type": "markdown",
   "id": "1790c033",
   "metadata": {},
   "source": [
    "## Step 1 --> Installing required libraries"
   ]
  },
  {
   "cell_type": "code",
   "execution_count": 1,
   "id": "5ec52867",
   "metadata": {},
   "outputs": [
    {
     "name": "stdout",
     "output_type": "stream",
     "text": [
      "Requirement already satisfied: numpy in /home/ashish/anaconda3/lib/python3.8/site-packages (1.20.1)\n",
      "Requirement already satisfied: pandas in /home/ashish/anaconda3/lib/python3.8/site-packages (1.2.4)\n",
      "Requirement already satisfied: sklearn in /home/ashish/anaconda3/lib/python3.8/site-packages (0.0)\n",
      "Requirement already satisfied: python-dateutil>=2.7.3 in /home/ashish/anaconda3/lib/python3.8/site-packages (from pandas) (2.8.1)\n",
      "Requirement already satisfied: pytz>=2017.3 in /home/ashish/anaconda3/lib/python3.8/site-packages (from pandas) (2021.1)\n",
      "Requirement already satisfied: six>=1.5 in /home/ashish/anaconda3/lib/python3.8/site-packages (from python-dateutil>=2.7.3->pandas) (1.15.0)\n",
      "Requirement already satisfied: scikit-learn in /home/ashish/anaconda3/lib/python3.8/site-packages (from sklearn) (0.24.1)\n",
      "Requirement already satisfied: scipy>=0.19.1 in /home/ashish/anaconda3/lib/python3.8/site-packages (from scikit-learn->sklearn) (1.6.2)\n",
      "Requirement already satisfied: threadpoolctl>=2.0.0 in /home/ashish/anaconda3/lib/python3.8/site-packages (from scikit-learn->sklearn) (2.1.0)\n",
      "Requirement already satisfied: joblib>=0.11 in /home/ashish/anaconda3/lib/python3.8/site-packages (from scikit-learn->sklearn) (1.0.1)\n",
      "Note: you may need to restart the kernel to use updated packages.\n"
     ]
    }
   ],
   "source": [
    "pip install numpy pandas sklearn"
   ]
  },
  {
   "cell_type": "markdown",
   "id": "c555097e",
   "metadata": {},
   "source": [
    "## Step 2 ---> importing necessary files and libraries"
   ]
  },
  {
   "cell_type": "code",
   "execution_count": 2,
   "id": "f106d43b",
   "metadata": {},
   "outputs": [],
   "source": [
    "import numpy as np\n",
    "import pandas as pd\n",
    "import itertools\n",
    "from sklearn.model_selection import train_test_split\n",
    "from sklearn.feature_extraction.text import TfidfVectorizer\n",
    "from sklearn.linear_model  import PassiveAggressiveClassifier\n",
    "from sklearn.metrics import accuracy_score, confusion_matrix"
   ]
  },
  {
   "cell_type": "markdown",
   "id": "32827dc1",
   "metadata": {},
   "source": [
    "## Step 3 ----> Now, let’s read the data into a DataFrame(using the pandas library), and get the shape of the data and the first 5 records"
   ]
  },
  {
   "cell_type": "code",
   "execution_count": 3,
   "id": "3694d065",
   "metadata": {},
   "outputs": [
    {
     "data": {
      "text/html": [
       "<div>\n",
       "<style scoped>\n",
       "    .dataframe tbody tr th:only-of-type {\n",
       "        vertical-align: middle;\n",
       "    }\n",
       "\n",
       "    .dataframe tbody tr th {\n",
       "        vertical-align: top;\n",
       "    }\n",
       "\n",
       "    .dataframe thead th {\n",
       "        text-align: right;\n",
       "    }\n",
       "</style>\n",
       "<table border=\"1\" class=\"dataframe\">\n",
       "  <thead>\n",
       "    <tr style=\"text-align: right;\">\n",
       "      <th></th>\n",
       "      <th>Unnamed: 0</th>\n",
       "      <th>title</th>\n",
       "      <th>text</th>\n",
       "      <th>label</th>\n",
       "    </tr>\n",
       "  </thead>\n",
       "  <tbody>\n",
       "    <tr>\n",
       "      <th>0</th>\n",
       "      <td>8476</td>\n",
       "      <td>You Can Smell Hillary’s Fear</td>\n",
       "      <td>Daniel Greenfield, a Shillman Journalism Fello...</td>\n",
       "      <td>FAKE</td>\n",
       "    </tr>\n",
       "    <tr>\n",
       "      <th>1</th>\n",
       "      <td>10294</td>\n",
       "      <td>Watch The Exact Moment Paul Ryan Committed Pol...</td>\n",
       "      <td>Google Pinterest Digg Linkedin Reddit Stumbleu...</td>\n",
       "      <td>FAKE</td>\n",
       "    </tr>\n",
       "    <tr>\n",
       "      <th>2</th>\n",
       "      <td>3608</td>\n",
       "      <td>Kerry to go to Paris in gesture of sympathy</td>\n",
       "      <td>U.S. Secretary of State John F. Kerry said Mon...</td>\n",
       "      <td>REAL</td>\n",
       "    </tr>\n",
       "    <tr>\n",
       "      <th>3</th>\n",
       "      <td>10142</td>\n",
       "      <td>Bernie supporters on Twitter erupt in anger ag...</td>\n",
       "      <td>— Kaydee King (@KaydeeKing) November 9, 2016 T...</td>\n",
       "      <td>FAKE</td>\n",
       "    </tr>\n",
       "    <tr>\n",
       "      <th>4</th>\n",
       "      <td>875</td>\n",
       "      <td>The Battle of New York: Why This Primary Matters</td>\n",
       "      <td>It's primary day in New York and front-runners...</td>\n",
       "      <td>REAL</td>\n",
       "    </tr>\n",
       "  </tbody>\n",
       "</table>\n",
       "</div>"
      ],
      "text/plain": [
       "   Unnamed: 0                                              title  \\\n",
       "0        8476                       You Can Smell Hillary’s Fear   \n",
       "1       10294  Watch The Exact Moment Paul Ryan Committed Pol...   \n",
       "2        3608        Kerry to go to Paris in gesture of sympathy   \n",
       "3       10142  Bernie supporters on Twitter erupt in anger ag...   \n",
       "4         875   The Battle of New York: Why This Primary Matters   \n",
       "\n",
       "                                                text label  \n",
       "0  Daniel Greenfield, a Shillman Journalism Fello...  FAKE  \n",
       "1  Google Pinterest Digg Linkedin Reddit Stumbleu...  FAKE  \n",
       "2  U.S. Secretary of State John F. Kerry said Mon...  REAL  \n",
       "3  — Kaydee King (@KaydeeKing) November 9, 2016 T...  FAKE  \n",
       "4  It's primary day in New York and front-runners...  REAL  "
      ]
     },
     "execution_count": 3,
     "metadata": {},
     "output_type": "execute_result"
    }
   ],
   "source": [
    "##Reading the data\n",
    "data_frame = pd.read_csv('/home/ashish/projects/Fake-NEWS-Detection/news.csv')\n",
    "\n",
    "##Getting the head and shape of the dataframe\n",
    "data_frame.head()"
   ]
  },
  {
   "cell_type": "code",
   "execution_count": 4,
   "id": "313a7927",
   "metadata": {},
   "outputs": [
    {
     "name": "stdout",
     "output_type": "stream",
     "text": [
      "The shape of the dataset is::  "
     ]
    },
    {
     "data": {
      "text/plain": [
       "(6335, 4)"
      ]
     },
     "execution_count": 4,
     "metadata": {},
     "output_type": "execute_result"
    }
   ],
   "source": [
    "print(\"The shape of the dataset is:: \",end=\" \")\n",
    "data_frame.shape"
   ]
  },
  {
   "cell_type": "markdown",
   "id": "63ee9717",
   "metadata": {},
   "source": [
    "## Step 4 ----> Getting the labels from the dataframe "
   ]
  },
  {
   "cell_type": "code",
   "execution_count": 6,
   "id": "d9ba4f35",
   "metadata": {},
   "outputs": [
    {
     "data": {
      "text/plain": [
       "0    FAKE\n",
       "1    FAKE\n",
       "2    REAL\n",
       "3    FAKE\n",
       "4    REAL\n",
       "Name: label, dtype: object"
      ]
     },
     "execution_count": 6,
     "metadata": {},
     "output_type": "execute_result"
    }
   ],
   "source": [
    "labels = data_frame.label\n",
    "labels.head()"
   ]
  },
  {
   "cell_type": "markdown",
   "id": "fa6729d1",
   "metadata": {},
   "source": [
    "## Step 5 ---->  Splitting the data into two sets i.e. training set and testing set"
   ]
  },
  {
   "cell_type": "code",
   "execution_count": 7,
   "id": "ae87bc57",
   "metadata": {},
   "outputs": [],
   "source": [
    "##Splitting the dataset\n",
    "\n",
    "##sklearn.model_selection.train_test_split(*arrays, test_size=None, train_size=None, random_state=None(it may be any integer between 0 to 42), shuffle=True, stratify=None)\n",
    "x_train,x_test,y_train,y_test = train_test_split(data_frame['text'],labels, test_size=0.2,random_state=7)"
   ]
  },
  {
   "cell_type": "code",
   "execution_count": null,
   "id": "79f092ee",
   "metadata": {},
   "outputs": [],
   "source": []
  },
  {
   "cell_type": "markdown",
   "id": "f6016a03",
   "metadata": {},
   "source": [
    "# Step 6 ----> Let’s initialize a TfidfVectorizer with stop words from the English language and a maximum document frequency of 0.7 (terms with a higher document frequency will be discarded). Stop words are the most common words in a language that are to be filtered out before processing the natural language data. \n",
    "\n",
    "## And a TfidfVectorizer turns a collection of raw documents into a matrix of TF-IDF features."
   ]
  },
  {
   "cell_type": "code",
   "execution_count": 11,
   "id": "c9ada41b",
   "metadata": {},
   "outputs": [],
   "source": [
    "## fiting and transforming the vectorizer on the train set, and then transform the vectorizer on the test set.\n",
    "tfidf_vectorizer = TfidfVectorizer(stop_words = 'english',max_df=0.7)\n",
    "\n",
    "\n",
    "## Fit and transform the train_set, then transfrom the test_set\n",
    "tfidf_train = tfidf_vectorizer.fit_transform(x_train)\n",
    "tfidf_test = tfidf_vectorizer.transform(x_test)"
   ]
  },
  {
   "cell_type": "markdown",
   "id": "4777474f",
   "metadata": {},
   "source": [
    "## Step 7 ---> Next, we’ll initialize a PassiveAggressiveClassifier. This is where We’ll fit this PassiveAggressiveClassifier on tfidf_train and y_train."
   ]
  },
  {
   "cell_type": "code",
   "execution_count": 12,
   "id": "af4bd1d4",
   "metadata": {},
   "outputs": [
    {
     "name": "stdout",
     "output_type": "stream",
     "text": [
      "Accuracy is : 92.98%\n"
     ]
    }
   ],
   "source": [
    "## Initialising a PassiveAggressiveClassifier\n",
    "pac = PassiveAggressiveClassifier(max_iter=50)\n",
    "pac.fit(tfidf_train,y_train)\n",
    "\n",
    "## Making predictions on the test set \n",
    "y_pred = pac.predict(tfidf_test)\n",
    "\n",
    "\n",
    "## Calculating accuracy\n",
    "score  = accuracy_score(y_test,y_pred)\n",
    "print(f'Accuracy is : {round(score*100,2)}%')"
   ]
  },
  {
   "cell_type": "markdown",
   "id": "c47e47ec",
   "metadata": {},
   "source": [
    "#                            ACCCURACY = 92.74%"
   ]
  },
  {
   "cell_type": "code",
   "execution_count": null,
   "id": "0c9efc9f",
   "metadata": {},
   "outputs": [],
   "source": []
  },
  {
   "cell_type": "markdown",
   "id": "455dbd23",
   "metadata": {},
   "source": [
    "## Step 8 --->   So, We got an accuracy of 92.74% with this model. Finally, let’s print out a confusion matrix to gain insight into the number of false and true negatives and positives"
   ]
  },
  {
   "cell_type": "code",
   "execution_count": 13,
   "id": "fad5ef1e",
   "metadata": {},
   "outputs": [
    {
     "data": {
      "text/plain": [
       "array([[590,  48],\n",
       "       [ 41, 588]])"
      ]
     },
     "execution_count": 13,
     "metadata": {},
     "output_type": "execute_result"
    }
   ],
   "source": [
    "confusion_matrix(y_test,y_pred,labels=['FAKE','REAL'])"
   ]
  },
  {
   "cell_type": "markdown",
   "id": "15b163e8",
   "metadata": {},
   "source": [
    "# INSIGHT/OUTCOME -------> This implies  that in this model, we have 590 true positives, 588 true negatives, 41 false positives, and 48 false negatives."
   ]
  },
  {
   "cell_type": "code",
   "execution_count": null,
   "id": "8d4bb40f",
   "metadata": {},
   "outputs": [],
   "source": []
  },
  {
   "cell_type": "code",
   "execution_count": null,
   "id": "f5bdb705",
   "metadata": {},
   "outputs": [],
   "source": []
  }
 ],
 "metadata": {
  "kernelspec": {
   "display_name": "Python 3",
   "language": "python",
   "name": "python3"
  },
  "language_info": {
   "codemirror_mode": {
    "name": "ipython",
    "version": 3
   },
   "file_extension": ".py",
   "mimetype": "text/x-python",
   "name": "python",
   "nbconvert_exporter": "python",
   "pygments_lexer": "ipython3",
   "version": "3.8.8"
  }
 },
 "nbformat": 4,
 "nbformat_minor": 5
}
